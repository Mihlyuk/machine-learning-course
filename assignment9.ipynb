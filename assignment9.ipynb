{
 "cells": [
  {
   "cell_type": "code",
   "execution_count": 1,
   "outputs": [],
   "source": [
    "import scipy.io as scio\n",
    "import scipy.optimize as op\n",
    "import numpy as np\n",
    "import matplotlib.pyplot as plt\n",
    "from surprise import BaselineOnly, Dataset, Reader, Trainset, KNNBaseline, SVD, accuracy\n",
    "from surprise.model_selection import cross_validate, GridSearchCV"
   ],
   "metadata": {
    "collapsed": false,
    "pycharm": {
     "name": "#%%\n",
     "is_executing": false
    }
   }
  },
  {
   "cell_type": "markdown",
   "metadata": {
    "collapsed": true,
    "pycharm": {
     "name": "#%% md\n"
    }
   },
   "source": [
    "#### 1. Загрузите данные ex9_movies.mat из файла."
   ]
  },
  {
   "cell_type": "code",
   "execution_count": 3,
   "outputs": [],
   "source": [
    "movies = scio.loadmat('data/lab 9/ex9_movies.mat')\n",
    "y, r = movies['Y'], movies['R']"
   ],
   "metadata": {
    "collapsed": false,
    "pycharm": {
     "name": "#%%\n",
     "is_executing": false
    }
   }
  },
  {
   "cell_type": "markdown",
   "source": [
    "#### 2. Выберите число признаков фильмов (n) для реализации алгоритма коллаборативной фильтрации."
   ],
   "metadata": {
    "collapsed": false,
    "pycharm": {
     "name": "#%% md\n"
    }
   }
  },
  {
   "cell_type": "code",
   "execution_count": 4,
   "outputs": [],
   "source": [
    "num_users = 4\n",
    "num_movies = 5\n",
    "num_features = 3"
   ],
   "metadata": {
    "collapsed": false,
    "pycharm": {
     "name": "#%%\n",
     "is_executing": false
    }
   }
  },
  {
   "cell_type": "markdown",
   "source": [
    "#### 3. Реализуйте функцию стоимости для алгоритма.\n",
    "#### 5. При реализации используйте векторизацию для ускорения процесса обучения.\n",
    "#### 6. Добавьте L2-регуляризацию в модель."
   ],
   "metadata": {
    "collapsed": false,
    "pycharm": {
     "name": "#%% md\n"
    }
   }
  },
  {
   "cell_type": "code",
   "execution_count": 5,
   "outputs": [],
   "source": [
    "def cofiCostFunc(X, Theta, y, r, num_users, num_movies, num_features, l):\n",
    "    J = 1 / 2 * np.sum(r * (X.dot(Theta.T) - y)**2) + l / \\\n",
    "        2 * (np.sum(Theta**2) + np.sum(X**2))\n",
    "    return J"
   ],
   "metadata": {
    "collapsed": false,
    "pycharm": {
     "name": "#%%\n",
     "is_executing": false
    }
   }
  },
  {
   "cell_type": "markdown",
   "source": [
    "#### 4. Реализуйте функцию вычисления градиентов."
   ],
   "metadata": {
    "collapsed": false,
    "pycharm": {
     "name": "#%% md\n"
    }
   }
  },
  {
   "cell_type": "code",
   "execution_count": 6,
   "outputs": [],
   "source": [
    "def cofiGradientFunc(X, Theta, y, r, num_users, num_movies, num_features, l):\n",
    "    X_grad = (r * (X.dot(Theta.T) - y)).dot(Theta) + l * X\n",
    "    Theta_grad = (r * (X.dot(Theta.T) - y)).T.dot(X) + l * Theta\n",
    "    return X_grad, Theta_grad"
   ],
   "metadata": {
    "collapsed": false,
    "pycharm": {
     "name": "#%%\n",
     "is_executing": false
    }
   }
  },
  {
   "cell_type": "markdown",
   "source": [
    "#### 7. Добавьте несколько оценок фильмов от себя. Файл movie_ids.txt содержит индексы каждого из фильмов."
   ],
   "metadata": {
    "collapsed": false,
    "pycharm": {
     "name": "#%% md\n"
    }
   }
  },
  {
   "cell_type": "code",
   "execution_count": 7,
   "outputs": [],
   "source": [
    "def loadMovieList():\n",
    "    f = open('data/Lab 9/movie_ids.txt').readlines()\n",
    "    n = 1682\n",
    "    list = [0]*1682\n",
    "    i = 0\n",
    "    for line in f:\n",
    "        if (i+1)/10 < 1:\n",
    "            list[i] = line[2:]\n",
    "        elif (i+1)/100 < 1:\n",
    "            list[i] = line[3:]\n",
    "        elif (i+1)/1000 < 1:\n",
    "            list[i] = line[4:]\n",
    "        else:\n",
    "            list[i] = line[5:]\n",
    "        i += 1\n",
    "    # dict = {\"list\":list}\n",
    "    # movieList = pd.DataFrame(dict)\n",
    "    # return movieList\n",
    "    return list"
   ],
   "metadata": {
    "collapsed": false,
    "pycharm": {
     "name": "#%%\n",
     "is_executing": false
    }
   }
  },
  {
   "cell_type": "code",
   "execution_count": 8,
   "outputs": [
    {
     "name": "stdout",
     "text": [
      "Rated 5 for Twelve Monkeys (1995)\nRated 2 for Free Willy 2: The Adventure Home (1995)\nRated 3 for Professional, The (1994)\nRated 4 for Priest (1994)\nRated 3 for Shawshank Redemption, The (1994)\nRated 5 for Forrest Gump (1994)\nRated 5 for Faster Pussycat! Kill! Kill! (1965)\nRated 4 for Lone Star (1996)\nRated 4 for Henry V (1989)\nRated 5 for Young Guns (1988)\nRated 5 for Prophecy II, The (1998)\n"
     ],
     "output_type": "stream"
    }
   ],
   "source": [
    "movieList = loadMovieList()\n",
    "my_ratings = np.zeros([1682,1])\n",
    "\n",
    "my_ratings[123] = 4\n",
    "my_ratings[34] = 2\n",
    "my_ratings[54] = 3\n",
    "my_ratings[6]= 5\n",
    "my_ratings[56] = 4\n",
    "my_ratings[68] = 5\n",
    "my_ratings[63] = 3\n",
    "my_ratings[73] = 5\n",
    "my_ratings[189] = 4\n",
    "my_ratings[231] = 5\n",
    "my_ratings[350] = 5\n",
    "\n",
    "for i in range(0,len(my_ratings)):\n",
    "    if my_ratings[i] > 0:\n",
    "        print('Rated %d for %s'%(my_ratings[i],movieList[i]),end=\"\")\n",
    "        "
   ],
   "metadata": {
    "collapsed": false,
    "pycharm": {
     "name": "#%%\n",
     "is_executing": false
    }
   }
  },
  {
   "cell_type": "markdown",
   "source": [
    "#### 8. Обучите модель с помощью градиентного спуска или других методов оптимизации."
   ],
   "metadata": {
    "collapsed": false,
    "pycharm": {
     "name": "#%% md\n"
    }
   }
  },
  {
   "cell_type": "code",
   "execution_count": 9,
   "outputs": [],
   "source": [
    "def normalizeRatings(Y, R):\n",
    "    m, n = np.shape(Y)\n",
    "    Ymean = np.zeros([m, 1])\n",
    "    Ynorm = np.zeros(np.shape(Y))\n",
    "    for i in range(0,m):\n",
    "        idx = np.where(R[i,:] == 1)\n",
    "        Ymean[i] = np.mean(Y[i,idx])\n",
    "        Ynorm[i,idx] = Y[i,idx] - Ymean[i]\n",
    "\n",
    "    return Ynorm,Ymean"
   ],
   "metadata": {
    "collapsed": false,
    "pycharm": {
     "name": "#%%\n",
     "is_executing": false
    }
   }
  },
  {
   "cell_type": "code",
   "execution_count": 10,
   "outputs": [],
   "source": [
    "def cofiCostFunc(params, Y, R, num_users, num_movies,num_features, xlambda):\n",
    "    X = params[:num_movies*num_features].reshape(num_movies, num_features)\n",
    "    Theta = params[num_movies*num_features:].reshape(num_users, num_features)\n",
    "\n",
    "    # zero initial\n",
    "    J = 0\n",
    "    X_grad = np.zeros(np.shape(X))\n",
    "    Theta_grad = np.zeros(np.shape(Theta))\n",
    "\n",
    "    # start\n",
    "    J = np.sum(R*((np.dot(X,Theta.T)-Y)**2))/2\n",
    "    X_grad = np.dot((R*(np.dot(X,Theta.T)-Y)),Theta)\n",
    "    Theta_grad = np.dot((R*(np.dot(X,Theta.T)-Y)).T,X)\n",
    "\n",
    "    grad = np.r_[(X_grad.ravel().reshape(num_movies*num_features,1),Theta_grad.ravel().reshape(num_users*num_features,1))]\n",
    "    return J,grad"
   ],
   "metadata": {
    "collapsed": false,
    "pycharm": {
     "name": "#%%\n",
     "is_executing": false
    }
   }
  },
  {
   "cell_type": "code",
   "execution_count": 11,
   "outputs": [],
   "source": [
    "ex8_movies = scio.loadmat('data/Lab 9/ex9_movies.mat')\n",
    "\n",
    "#  Y is a 1682x943 matrix, containing ratings (1-5) of 1682 movies by 943 users\n",
    "#  R is a 1682x943 matrix, where R(i,j) = 1 if and only if user j gave a rating to movie i\n",
    "R,Y = ex8_movies[\"R\"], ex8_movies[\"Y\"]\n",
    "\n",
    "#  Add our own ratings to the data matrix\n",
    "Y = np.c_[(my_ratings, Y)]\n",
    "R = np.c_[(np.ceil(my_ratings / 5), R)]\n",
    "\n",
    "#  Normalize Ratings\n",
    "Ynorm, Ymean = normalizeRatings(Y, R)\n",
    "\n",
    "#  Useful Values\n",
    "num_users = Y.shape[1]\n",
    "num_movies = Y.shape[0]\n",
    "num_features = 10\n",
    "\n",
    "# Set Initial Parameters (Theta, X)\n",
    "X = np.random.randn(num_movies, num_features)\n",
    "Theta = np.random.randn(num_users, num_features)\n",
    "\n",
    "initial_parameters=np.r_[(X.ravel().reshape(num_movies * num_features, 1),Theta.ravel().reshape(num_users * num_features,1))]\n",
    "xlambda = 10\n",
    "\n",
    "theta = op.minimize(fun=cofiCostFunc, x0=initial_parameters,\n",
    "                     args=(Ynorm, R, num_users, num_movies, num_features, xlambda),\n",
    "                     method='TNC', jac=True, tol=1e-6, options={'maxiter':100, \"disp\":True}).x\n",
    "\n",
    "# Unfold the returned theta back into U and W\n",
    "X = theta[:num_movies * num_features].reshape(num_movies, num_features)\n",
    "Theta = theta[num_movies * num_features:].reshape(num_users, num_features)"
   ],
   "metadata": {
    "collapsed": false,
    "pycharm": {
     "name": "#%%\n",
     "is_executing": false
    }
   }
  },
  {
   "cell_type": "markdown",
   "source": [
    "### 9. Сделайте рекомендации для себя. Совпали ли они с реальностью?"
   ],
   "metadata": {
    "collapsed": false,
    "pycharm": {
     "name": "#%% md\n"
    }
   }
  },
  {
   "cell_type": "code",
   "execution_count": 12,
   "outputs": [
    {
     "name": "stdout",
     "text": [
      "\nTop recommendations for you:\n\nPredicting rating 33.3 for movie Eighth Day, The (1996)\nPredicting rating 14.6 for movie Nobody Loves Me (Keiner liebt mich) (1994)\nPredicting rating 14.3 for movie Etz Hadomim Tafus (Under the Domin Tree) (1994)\nPredicting rating 14.1 for movie Quiet Room, The (1996)\nPredicting rating 14.0 for movie Forget Paris (1995)\nPredicting rating 13.2 for movie Land and Freedom (Tierra y libertad) (1995)\nPredicting rating 13.0 for movie Passion Fish (1992)\nPredicting rating 12.6 for movie Fast, Cheap & Out of Control (1997)\nPredicting rating 12.5 for movie Horseman on the Roof, The (Hussard sur le toit, Le) (1995)\nPredicting rating 11.5 for movie Houseguest (1994)\nPredicting rating 11.4 for movie Bananas (1971)\nPredicting rating 11.2 for movie Witness (1985)\nPredicting rating 11.1 for movie Purple Noon (1960)\nPredicting rating 11.1 for movie Hush (1998)\nPredicting rating 11.0 for movie Cement Garden, The (1993)\nPredicting rating 10.9 for movie Alphaville (1965)\nPredicting rating 10.5 for movie Friday (1995)\nPredicting rating 10.4 for movie No Escape (1994)\nPredicting rating 10.2 for movie Intimate Relations (1996)\nPredicting rating 10.0 for movie Renaissance Man (1994)\n"
     ],
     "output_type": "stream"
    }
   ],
   "source": [
    "p = np.dot(X,Theta.T)\n",
    "my_predictions = p[:,0].reshape(num_movies,1) + Ymean.reshape(num_movies,1)\n",
    "my_predictions = my_predictions[:, 0]\n",
    "\n",
    "movieList = loadMovieList()\n",
    "\n",
    "my_pred_sort = np.sort(-my_predictions)\n",
    "my_ix = np.argsort(-my_predictions)\n",
    "\n",
    "print('\\nTop recommendations for you:\\n')\n",
    "for i in range(0,20):\n",
    "    j = int(my_ix[i])\n",
    "    print('Predicting rating %.1f for movie %s'%(my_predictions[j], movieList[j]),end=\"\")\n",
    "    "
   ],
   "metadata": {
    "collapsed": false,
    "pycharm": {
     "name": "#%%\n",
     "is_executing": false
    }
   }
  },
  {
   "cell_type": "markdown",
   "source": [
    "В целом, рекомендации похожи на фильмы, которые я положительно оценил ранее."
   ],
   "metadata": {
    "collapsed": false,
    "pycharm": {
     "name": "#%% md\n"
    }
   }
  },
  {
   "cell_type": "markdown",
   "source": [
    "#### 10. Также обучите модель с помощью сингулярного разложения матриц. Отличаются ли полученные результаты?\n",
    " "
   ],
   "metadata": {
    "collapsed": false,
    "pycharm": {
     "name": "#%% md\n"
    }
   }
  },
  {
   "cell_type": "code",
   "execution_count": 13,
   "outputs": [],
   "source": [
    "# save *.csv file\n",
    "\n",
    "Y_inlined = np.dstack([*np.indices(Y.T.shape), Y.T]).reshape(-1, 3)\n",
    "np.savetxt('data/Lab 9/ex9_movies.csv', Y_inlined[Y_inlined[:,2] != 0], fmt=\"%i %i %i\")\n",
    "\n",
    "# create dataset from *.csv file\n",
    "reader = Reader(line_format='user item rating', sep=\" \")\n",
    "data = Dataset.load_from_file(\"data/Lab 9/ex9_movies.csv\", reader)"
   ],
   "metadata": {
    "collapsed": false,
    "pycharm": {
     "name": "#%%\n",
     "is_executing": false
    }
   }
  },
  {
   "cell_type": "code",
   "execution_count": 14,
   "outputs": [
    {
     "name": "stdout",
     "text": [
      "user: 0          item: 6          r_ui = 10.00   est = 4.97   {'was_impossible': False}\nRMSE: 0.2481\nError =  0.24806449586520463\n"
     ],
     "output_type": "stream"
    }
   ],
   "source": [
    "algo = SVD(n_factors=100, n_epochs=100, lr_all=0.1)\n",
    "trainset = data.build_full_trainset()\n",
    "testset = trainset.build_testset()\n",
    "\n",
    "algo.fit(trainset)\n",
    "p = algo.predict(uid=trainset.to_raw_uid(0), iid=trainset.to_raw_iid(0), r_ui=10)\n",
    "predictions = algo.test(testset)\n",
    "\n",
    "print(p)\n",
    "print('Error = ', accuracy.rmse(predictions))"
   ],
   "metadata": {
    "collapsed": false,
    "pycharm": {
     "name": "#%%\n",
     "is_executing": false
    }
   }
  },
  {
   "cell_type": "code",
   "execution_count": 15,
   "outputs": [],
   "source": [
    "my_predictions = np.ndarray(1681)\n",
    "for movie_index in np.arange(0, 1681):\n",
    "    my_predictions[movie_index] = algo.predict(uid=trainset.to_raw_uid(0), iid=trainset.to_raw_iid(movie_index)).est"
   ],
   "metadata": {
    "collapsed": false,
    "pycharm": {
     "name": "#%%\n",
     "is_executing": false
    }
   }
  },
  {
   "cell_type": "code",
   "execution_count": 17,
   "outputs": [
    {
     "name": "stdout",
     "text": [
      "\nTop recommendations for you:\n\nPredicting rating 5.0 for movie Contact (1997)\nPredicting rating 5.0 for movie Raise the Red Lantern (1991)\nPredicting rating 5.0 for movie Crumb (1994)\nPredicting rating 5.0 for movie Shanghai Triad (Yao a yao yao dao waipo qiao) (1995)\nPredicting rating 5.0 for movie Vanya on 42nd Street (1994)\nPredicting rating 5.0 for movie Empire Strikes Back, The (1980)\nPredicting rating 5.0 for movie Twelve Monkeys (1995)\nPredicting rating 5.0 for movie Toy Story (1995)\nPredicting rating 5.0 for movie Richard III (1995)\nPredicting rating 5.0 for movie Seven (Se7en) (1995)\nPredicting rating 5.0 for movie Raging Bull (1980)\nPredicting rating 4.9 for movie World of Apu, The (Apur Sansar) (1959)\nPredicting rating 4.9 for movie Much Ado About Nothing (1993)\nPredicting rating 4.9 for movie Kansas City (1996)\nPredicting rating 4.8 for movie Pather Panchali (1955)\nPredicting rating 4.8 for movie Welcome to the Dollhouse (1995)\nPredicting rating 4.8 for movie Face/Off (1997)\nPredicting rating 4.8 for movie Good, The Bad and The Ugly, The (1966)\nPredicting rating 4.8 for movie Enchanted April (1991)\nPredicting rating 4.8 for movie It Happened One Night (1934)\n"
     ],
     "output_type": "stream"
    }
   ],
   "source": [
    "movieList = loadMovieList()\n",
    "\n",
    "my_pred_sort = np.sort(-my_predictions)\n",
    "my_ix = np.argsort(-my_predictions)\n",
    "\n",
    "print('\\nTop recommendations for you:\\n')\n",
    "for i in range(0,20):\n",
    "    j = int(my_ix[i])\n",
    "    print('Predicting rating %.1f for movie %s'%(my_predictions[j], movieList[j]),end=\"\")\n",
    "    "
   ],
   "metadata": {
    "collapsed": false,
    "pycharm": {
     "name": "#%%\n",
     "is_executing": false
    }
   }
  },
  {
   "cell_type": "markdown",
   "source": [
    "Получившиеся результаты совершенно не похожи на предыдущие.\n",
    "Если рассматривать детально, то отзывы, которые в первом случае были предсказаны на 5, в svd оценены на 3-4.\n",
    "Но в целом предсказание выглядит более правдоподобным. \n",
    "К примеру мне порекомендовало посмотреть фильм Twelve Monkeys, т.к. я его оценил на 5. \n"
   ],
   "metadata": {
    "collapsed": false,
    "pycharm": {
     "name": "#%% md\n",
     "is_executing": false
    }
   }
  }
 ],
 "metadata": {
  "kernelspec": {
   "name": "python3",
   "language": "python",
   "display_name": "Python 3"
  },
  "language_info": {
   "codemirror_mode": {
    "name": "ipython",
    "version": 2
   },
   "file_extension": ".py",
   "mimetype": "text/x-python",
   "name": "python",
   "nbconvert_exporter": "python",
   "pygments_lexer": "ipython2",
   "version": "2.7.6"
  },
  "pycharm": {
   "stem_cell": {
    "cell_type": "raw",
    "source": [],
    "metadata": {
     "collapsed": false
    }
   }
  }
 },
 "nbformat": 4,
 "nbformat_minor": 0
}