{
 "cells": [
  {
   "cell_type": "code",
   "execution_count": 1,
   "outputs": [],
   "source": [
    "import os\n",
    "import scipy.io as scio\n",
    "import scipy.optimize as scop\n",
    "import numpy as np\n",
    "import pandas as pd\n",
    "import scipy.linalg as slin\n",
    "import matplotlib.pyplot as plt\n",
    "from math import *"
   ],
   "metadata": {
    "collapsed": false,
    "pycharm": {
     "name": "#%%\n",
     "is_executing": false
    }
   }
  },
  {
   "cell_type": "markdown",
   "source": [
    "#### 1. Загрузите данные ex4data1.mat из файла."
   ],
   "metadata": {
    "collapsed": false
   }
  },
  {
   "cell_type": "code",
   "execution_count": 2,
   "outputs": [],
   "source": [
    "data = scio.loadmat('data/Lab 4/ex4data1.mat')\n",
    "X = data['X']\n",
    "y = data['y'][:, 0]\n",
    "m = np.shape(X)[0]\n",
    "\n",
    "# 20x20 Input Images of Digits\n",
    "input_layer_size = 400\n",
    "# 25 hidden units\n",
    "hidden_layer_size = 25\n",
    "# 10 labels, from 1 to 10, note that 0 => 10\n",
    "num_labels = 10"
   ],
   "metadata": {
    "collapsed": false,
    "pycharm": {
     "name": "#%%\n",
     "is_executing": false
    }
   }
  },
  {
   "cell_type": "markdown",
   "source": [
    "#### 2. Загрузите веса нейронной сети из файла ex4weights.mat, который содержит две матрицы Θ(1) (25, 401) и Θ(2) (10, 26). Какова структура полученной нейронной сети?"
   ],
   "metadata": {
    "collapsed": false
   }
  },
  {
   "cell_type": "code",
   "execution_count": 3,
   "outputs": [],
   "source": [
    "params = scio.loadmat('data/Lab 4/ex4weights.mat')\n",
    "theta1 = params['Theta1']  # 25x401\n",
    "theta2 = params['Theta2']  # 10x26\n",
    "nn_params = np.concatenate((theta1.flatten(), theta2.flatten()))"
   ],
   "metadata": {
    "collapsed": false,
    "pycharm": {
     "name": "#%%\n",
     "is_executing": false
    }
   }
  },
  {
   "cell_type": "markdown",
   "source": [
    "Полученная нейронная сеть имеет:\n",
    " - входной слой размером 401 (400 + 1 bias)\n",
    " - скрытый слой размером 26 (25 + 1 bias)\n",
    " - выходной слой размером 10 \n"
   ],
   "metadata": {
    "collapsed": false
   }
  },
  {
   "cell_type": "markdown",
   "source": [
    "#### 3. Реализуйте функцию прямого распространения с сигмоидом в качестве функции активации. "
   ],
   "metadata": {
    "collapsed": false
   }
  },
  {
   "cell_type": "code",
   "execution_count": 4,
   "outputs": [],
   "source": [
    "def sigmoid(z):\n",
    "    return 1 / (1 + np.exp(-z))"
   ],
   "metadata": {
    "collapsed": false,
    "pycharm": {
     "name": "#%%\n",
     "is_executing": false
    }
   }
  },
  {
   "cell_type": "code",
   "execution_count": 5,
   "outputs": [],
   "source": [
    "def predict(theta1, theta2, X):\n",
    "    m = np.size(X, 0)\n",
    "    X = np.concatenate((np.ones((m, 1), dtype=float), X), axis=1)\n",
    "    temp1 = sigmoid(X @ theta1.T)\n",
    "    temp = np.concatenate((np.ones((m, 1), dtype=float), temp1), axis=1)\n",
    "    temp2 = sigmoid(temp @ theta2.T)\n",
    "    p = np.argmax(temp2, axis=1) + 1\n",
    "    return p\n",
    "    "
   ],
   "metadata": {
    "collapsed": false,
    "pycharm": {
     "name": "#%%\n",
     "is_executing": false
    }
   }
  },
  {
   "cell_type": "markdown",
   "source": [
    "#### 4. Вычислите процент правильных классификаций на обучающей выборке. Сравните полученный результат с логистической регрессией."
   ],
   "metadata": {
    "collapsed": false
   }
  },
  {
   "cell_type": "code",
   "execution_count": 6,
   "outputs": [
    {
     "name": "stdout",
     "text": [
      "Accuracy:  97.52\n"
     ],
     "output_type": "stream"
    }
   ],
   "source": [
    "prediction = predict(theta1, theta2, X)\n",
    "correct_predictions = 0\n",
    "\n",
    "for i in range(len(prediction)):\n",
    "    if prediction[i] == y[i]:\n",
    "        correct_predictions += 1\n",
    "        \n",
    "print(\"Accuracy: \", correct_predictions / len(y) * 100)"
   ],
   "metadata": {
    "collapsed": false,
    "pycharm": {
     "name": "#%%\n",
     "is_executing": false
    }
   }
  },
  {
   "cell_type": "markdown",
   "source": [
    "Процент правильных классификаций на обучающей выборке получился больше чем c логической регрессией:\n",
    "- 95.16% - логическая регрессия;\n",
    "- 97.52% - нейронная сеть."
   ],
   "metadata": {
    "collapsed": false,
    "pycharm": {
     "name": "#%% md\n"
    }
   }
  },
  {
   "cell_type": "markdown",
   "source": [
    "#### 5. Перекодируйте исходные метки классов по схеме one-hot."
   ],
   "metadata": {
    "collapsed": false,
    "pycharm": {
     "name": "#%% md\n"
    }
   }
  },
  {
   "cell_type": "code",
   "execution_count": 7,
   "outputs": [],
   "source": [
    "y_oh = pd.get_dummies(y)"
   ],
   "metadata": {
    "collapsed": false,
    "pycharm": {
     "name": "#%%\n",
     "is_executing": false
    }
   }
  },
  {
   "cell_type": "markdown",
   "source": [
    "#### 6. Реализуйте функцию стоимости для данной нейронной сети.\n",
    "#### 7. Добавьте L2-регуляризацию в функцию стоимости."
   ],
   "metadata": {
    "collapsed": false,
    "pycharm": {
     "name": "#%% md\n"
    }
   }
  },
  {
   "cell_type": "code",
   "execution_count": 8,
   "outputs": [],
   "source": [
    "def nn_cost_function(nn_params, input_layer_size,\n",
    "                   hidden_layer_size, num_labels,\n",
    "                   X, y, l):\n",
    "    theta1 = nn_params[0:hidden_layer_size * (input_layer_size + 1)]\n",
    "    theta1 = theta1.reshape((hidden_layer_size, input_layer_size + 1))\n",
    "    theta2 = nn_params[hidden_layer_size * (input_layer_size + 1):]\n",
    "    theta2 = theta2.reshape((num_labels, hidden_layer_size + 1))\n",
    "    m = np.shape(X)[0]\n",
    "\n",
    "    a1 = np.concatenate((np.ones((m, 1), dtype=float), X), axis=1)\n",
    "    z2 = a1 @ theta1.T\n",
    "    a2 = np.concatenate((np.ones((m, 1)), sigmoid(z2)), axis=1)\n",
    "    z3 = a2 @ theta2.T\n",
    "    a3 = sigmoid(z3)\n",
    "    p = np.zeros((m, num_labels), dtype=int)\n",
    "    p[np.arange(m), y - 1] = 1\n",
    "    j = np.sum(-p * np.log(a3) - (1 - p) * np.log(1 - a3)) / m\n",
    "\n",
    "    reg = np.sum( np.sum(np.power(theta1[:, 1:], 2)) + np.sum(np.power(theta2[:, 1:], 2)) )\n",
    "\n",
    "    j += l / (2 * m) * reg\n",
    "    \n",
    "    return j"
   ],
   "metadata": {
    "collapsed": false,
    "pycharm": {
     "name": "#%%\n",
     "is_executing": false
    }
   }
  },
  {
   "cell_type": "markdown",
   "source": [
    "#### 8. Реализуйте функцию вычисления производной для функции активации."
   ],
   "metadata": {
    "collapsed": false,
    "pycharm": {
     "name": "#%% md\n"
    }
   }
  },
  {
   "cell_type": "code",
   "execution_count": 9,
   "outputs": [],
   "source": [
    "def sigmoid_gradient(z):\n",
    "     return sigmoid(z) * (1 - sigmoid(z))"
   ],
   "metadata": {
    "collapsed": false,
    "pycharm": {
     "name": "#%%\n",
     "is_executing": false
    }
   }
  },
  {
   "cell_type": "markdown",
   "source": [
    "#### 9. Инициализируйте веса небольшими случайными числами."
   ],
   "metadata": {
    "collapsed": false,
    "pycharm": {
     "name": "#%% md\n"
    }
   }
  },
  {
   "cell_type": "code",
   "execution_count": 10,
   "outputs": [],
   "source": [
    "def rand_initialize_weights(l_in, l_out):\n",
    "    epsilon_init = 0.12\n",
    "    w = np.random.rand(l_out, l_in + 1) * 2 * epsilon_init - epsilon_init\n",
    "    return w"
   ],
   "metadata": {
    "collapsed": false,
    "pycharm": {
     "name": "#%%\n",
     "is_executing": false
    }
   }
  },
  {
   "cell_type": "code",
   "execution_count": 11,
   "outputs": [],
   "source": [
    "initial_theta1 = rand_initialize_weights(input_layer_size, hidden_layer_size)\n",
    "initial_theta2 = rand_initialize_weights(hidden_layer_size, num_labels)\n",
    "initial_nn_params = np.concatenate(\n",
    "    (initial_theta1.flatten(), initial_theta2.flatten()))"
   ],
   "metadata": {
    "collapsed": false,
    "pycharm": {
     "name": "#%%\n",
     "is_executing": false
    }
   }
  },
  {
   "cell_type": "markdown",
   "source": [
    "#### 10. Реализуйте алгоритм обратного распространения ошибки для данной конфигурации сети.\n",
    "#### 12. Добавьте L2-регуляризацию в процесс вычисления градиентов."
   ],
   "metadata": {
    "collapsed": false,
    "pycharm": {
     "name": "#%% md\n"
    }
   }
  },
  {
   "cell_type": "code",
   "execution_count": 12,
   "outputs": [],
   "source": [
    "def nn_gradient(nn_params, input_layer_size,\n",
    "                   hidden_layer_size, num_labels,\n",
    "                   X, y, l):\n",
    "    \n",
    "    theta1 = nn_params[0:hidden_layer_size * (input_layer_size + 1)]\n",
    "    theta1 = theta1.reshape((hidden_layer_size, input_layer_size + 1))\n",
    "    theta2 = nn_params[hidden_layer_size * (input_layer_size + 1):]\n",
    "    theta2 = theta2.reshape((num_labels, hidden_layer_size + 1))\n",
    "    m = np.shape(X)[0]\n",
    "\n",
    "    # Forward propagation\n",
    "    a1 = np.concatenate((np.ones((m, 1), dtype=float), X), axis=1)\n",
    "    z2 = a1 @ theta1.T\n",
    "    a2 = np.concatenate((np.ones((m, 1)), sigmoid(z2)), axis=1)\n",
    "    z3 = a2 @ theta2.T\n",
    "    a3 = sigmoid(z3)\n",
    "    p = np.zeros((m, num_labels), dtype=int)\n",
    "    p[np.arange(m), y - 1] = 1\n",
    "    \n",
    "    delta3 = a3 - p\n",
    "    delta2 = delta3 @ theta2 * sigmoid_gradient(np.concatenate((np.ones((m, 1), dtype=float), z2), axis=1))\n",
    "    theta2_grad = delta3.T @ a2\n",
    "    theta1_grad = delta2[:, 1:].T @ a1\n",
    "\n",
    "    theta1_grad = theta1_grad / m\n",
    "    theta1_grad[:, 1:] = theta1_grad[:, 1:] + l / m * theta1[:, 1:]\n",
    "    theta2_grad = theta2_grad / m\n",
    "    theta2_grad[:, 1:] = theta2_grad[:, 1:] + l / m * theta2[:, 1:]\n",
    "    \n",
    "    grad = np.concatenate((theta1_grad.flatten(), theta2_grad.flatten()))\n",
    "    return grad"
   ],
   "metadata": {
    "collapsed": false,
    "pycharm": {
     "name": "#%%\n",
     "is_executing": false
    }
   }
  },
  {
   "cell_type": "markdown",
   "source": [
    "#### 11. Для того, чтобы удостоверится в правильности вычисленных значений градиентов используйте метод проверки градиента с параметром ε = 10-4."
   ],
   "metadata": {
    "collapsed": false,
    "pycharm": {
     "name": "#%% md\n"
    }
   }
  },
  {
   "cell_type": "code",
   "execution_count": 13,
   "outputs": [],
   "source": [
    "def compute_numerical_gradient(J, theta, args):\n",
    "    numgrad = np.zeros(np.size(theta), dtype=float)\n",
    "    perturb = np.zeros(np.size(theta), dtype=float)\n",
    "    epsilon = 1e-4\n",
    "    for i in range(np.size(theta)):\n",
    "        perturb[i] = epsilon\n",
    "        loss1 = J(theta - perturb, *args)\n",
    "        loss2 = J(theta + perturb, *args)\n",
    "        numgrad[i] = (loss2 - loss1) / (2 * epsilon)\n",
    "        perturb[i] = 0\n",
    "    return numgrad"
   ],
   "metadata": {
    "collapsed": false,
    "pycharm": {
     "name": "#%%\n",
     "is_executing": false
    }
   }
  },
  {
   "cell_type": "code",
   "execution_count": 14,
   "outputs": [],
   "source": [
    "def debug_initialize_weights(f_out, f_in):\n",
    "    w = np.sin(np.arange(f_out * (f_in + 1)) + 1).reshape(f_out, f_in + 1) / 10\n",
    "    return w"
   ],
   "metadata": {
    "collapsed": false,
    "pycharm": {
     "name": "#%%\n",
     "is_executing": false
    }
   }
  },
  {
   "cell_type": "code",
   "execution_count": 15,
   "outputs": [],
   "source": [
    "def check_NN_gradients(l):\n",
    "    input_layer_size = 3\n",
    "    hidden_layer_size = 5\n",
    "    num_labels = 3\n",
    "    m = 5\n",
    "\n",
    "    theta1 = debug_initialize_weights(hidden_layer_size, input_layer_size)\n",
    "    theta2 = debug_initialize_weights(num_labels, hidden_layer_size)\n",
    "\n",
    "    x = debug_initialize_weights(m, input_layer_size - 1)\n",
    "    y = 1 + (np.arange(m) + 1) % num_labels\n",
    "\n",
    "    nn_params = np.concatenate((theta1.flatten(), theta2.flatten()))\n",
    "\n",
    "    grad = nn_gradient(nn_params, input_layer_size,\n",
    "                      hidden_layer_size, num_labels, x, y, l)\n",
    "    \n",
    "    numgrad = compute_numerical_gradient(nn_cost_function, nn_params,\n",
    "                                       (input_layer_size, hidden_layer_size, num_labels, x, y, l))\n",
    "    print(numgrad, '\\n', grad)    \n",
    "    diff = slin.norm(numgrad - grad) / slin.norm(numgrad + grad)\n",
    "    print('Relative Difference: ', diff)"
   ],
   "metadata": {
    "collapsed": false,
    "pycharm": {
     "name": "#%% \n",
     "is_executing": false
    }
   }
  },
  {
   "cell_type": "markdown",
   "source": [
    "#### 13. Проверьте полученные значения градиента."
   ],
   "metadata": {
    "collapsed": false,
    "pycharm": {
     "name": "#%% md\n",
     "is_executing": false
    }
   }
  },
  {
   "cell_type": "code",
   "execution_count": 16,
   "outputs": [
    {
     "name": "stdout",
     "text": [
      "[ 1.23162247e-02  1.73828185e-04  2.61455146e-04  1.08701450e-04\n  3.92471369e-03  1.90101250e-04  2.22272334e-04  5.00872543e-05\n -8.08459407e-03  3.13170623e-05 -2.17840346e-05 -5.48569878e-05\n -1.26669105e-02 -1.56130209e-04 -2.45506164e-04 -1.09164882e-04\n -5.59342546e-03 -2.00036572e-04 -2.43630216e-04 -6.32313668e-05\n  3.09347722e-01  1.61067138e-01  1.47036522e-01  1.58268577e-01\n  1.57616707e-01  1.47236360e-01  1.08133003e-01  5.61633717e-02\n  5.19510542e-02  5.47353405e-02  5.53082757e-02  5.17752619e-02\n  1.06270372e-01  5.57611045e-02  5.05568118e-02  5.38805142e-02\n  5.47407215e-02  5.02929547e-02] \n [ 1.23162247e-02  1.73828184e-04  2.61455144e-04  1.08701450e-04\n  3.92471369e-03  1.90101252e-04  2.22272331e-04  5.00872547e-05\n -8.08459407e-03  3.13170587e-05 -2.17840341e-05 -5.48569864e-05\n -1.26669105e-02 -1.56130210e-04 -2.45506163e-04 -1.09164881e-04\n -5.59342547e-03 -2.00036572e-04 -2.43630220e-04 -6.32313673e-05\n  3.09347722e-01  1.61067138e-01  1.47036522e-01  1.58268577e-01\n  1.57616707e-01  1.47236360e-01  1.08133003e-01  5.61633717e-02\n  5.19510542e-02  5.47353405e-02  5.53082757e-02  5.17752619e-02\n  1.06270372e-01  5.57611045e-02  5.05568118e-02  5.38805141e-02\n  5.47407215e-02  5.02929547e-02]\nRelative Difference:  1.83808925830696e-11\n"
     ],
     "output_type": "stream"
    }
   ],
   "source": [
    "check_NN_gradients(0)"
   ],
   "metadata": {
    "collapsed": false,
    "pycharm": {
     "name": "#%%\n",
     "is_executing": false
    }
   }
  },
  {
   "cell_type": "markdown",
   "source": [
    "Приведенные два столбца очень похожи. Это означает, что реализация обратного распространения сделана правильно\n",
    "(относительная разница должна менее 1e-9)"
   ],
   "metadata": {
    "collapsed": false,
    "pycharm": {
     "name": "#%% md\n"
    }
   }
  },
  {
   "cell_type": "markdown",
   "source": [
    "#### 14. Обучите нейронную сеть с использованием градиентного спуска или других более эффективных методов оптимизации."
   ],
   "metadata": {
    "collapsed": false,
    "pycharm": {
     "name": "#%% md\n"
    }
   }
  },
  {
   "cell_type": "code",
   "execution_count": 17,
   "outputs": [
    {
     "name": "stdout",
     "text": [
      "Training Neural Network... \n\n",
      "Warning: Maximum number of iterations has been exceeded.\n         Current function value: 0.567068\n         Iterations: 50\n         Function evaluations: 105\n         Gradient evaluations: 105\n"
     ],
     "output_type": "stream"
    }
   ],
   "source": [
    "print('Training Neural Network... \\n')\n",
    "\n",
    "l = 2\n",
    "param = scop.fmin_cg(nn_cost_function, initial_nn_params,\n",
    "                     fprime=nn_gradient,\n",
    "                     args=(input_layer_size, hidden_layer_size,\n",
    "                           num_labels, X, y, l),\n",
    "                     maxiter=50)\n",
    "\n",
    "theta1 = param[0:hidden_layer_size * (input_layer_size + 1)]\n",
    "theta1 = theta1.reshape(hidden_layer_size, input_layer_size + 1)\n",
    "theta2 = param[hidden_layer_size * (input_layer_size + 1):]\n",
    "theta2 = theta2.reshape(num_labels, hidden_layer_size + 1)"
   ],
   "metadata": {
    "collapsed": false,
    "pycharm": {
     "name": "#%%\n",
     "is_executing": false
    }
   }
  },
  {
   "cell_type": "markdown",
   "source": [
    "#### 15. Вычислите процент правильных классификаций на обучающей выборке."
   ],
   "metadata": {
    "collapsed": false,
    "pycharm": {
     "name": "#%% md\n"
    }
   }
  },
  {
   "cell_type": "code",
   "execution_count": 18,
   "outputs": [
    {
     "name": "stdout",
     "text": [
      "Training Set Accuracy:  96.04\n"
     ],
     "output_type": "stream"
    }
   ],
   "source": [
    "pred = predict(theta1, theta2, X)\n",
    "print('Training Set Accuracy: ', np.mean(pred == y) * 100)"
   ],
   "metadata": {
    "collapsed": false,
    "pycharm": {
     "name": "#%%\n",
     "is_executing": false
    }
   }
  },
  {
   "cell_type": "markdown",
   "source": [
    "#### 16. Визуализируйте скрытый слой обученной сети."
   ],
   "metadata": {
    "collapsed": false,
    "pycharm": {
     "name": "#%% md\n"
    }
   }
  },
  {
   "cell_type": "code",
   "execution_count": 19,
   "outputs": [],
   "source": [
    "def display_data(X):\n",
    "    m, n = np.shape(X)\n",
    "    example_width = round(sqrt(n))\n",
    "    example_height = int(n/ example_width)\n",
    "\n",
    "    # Compute number of items to display\n",
    "    display_rows = floor(sqrt(m))\n",
    "    display_cols = ceil(m / display_rows)\n",
    "\n",
    "    # Between images padding\n",
    "    pad = 1\n",
    "\n",
    "    # Setup blank display\n",
    "    a = pad + display_rows * (example_height + pad)\n",
    "    b = pad + display_cols * (example_width + pad)\n",
    "    display_array = -np.ones((a, b), dtype=float)\n",
    "\n",
    "    # Copy each example into a patch on the display array\n",
    "    curr_ex = 0\n",
    "    for j in range(display_rows):\n",
    "        for i in range(display_cols):\n",
    "            if curr_ex >= m:\n",
    "                break\n",
    "            max_val = max(abs(X[curr_ex, :]))\n",
    "            i_1 = pad + j * (example_height + pad)\n",
    "            i_2 = pad + i * (example_width + pad)\n",
    "            display_array[i_1:i_1 + example_height, i_2:i_2 + example_width] = X[curr_ex, :].reshape(example_height, example_width) / max_val\n",
    "            curr_ex += 1\n",
    "        if curr_ex >= m:\n",
    "                break\n",
    "    plt.imshow(display_array.T, cmap='gray')\n",
    "    plt.show()"
   ],
   "metadata": {
    "collapsed": false,
    "pycharm": {
     "name": "#%%\n",
     "is_executing": false
    }
   }
  },
  {
   "cell_type": "code",
   "execution_count": 20,
   "outputs": [
    {
     "name": "stdout",
     "text": [
      "Visualizing Neural Network ...\n"
     ],
     "output_type": "stream"
    },
    {
     "data": {
      "text/plain": "<Figure size 432x288 with 1 Axes>",
      "image/png": "[encoded data removed]"
     },
     "metadata": {
      "needs_background": "light"
     },
     "output_type": "display_data"
    }
   ],
   "source": [
    "print('Visualizing Neural Network ...')\n",
    "display_data(theta1[:, 1:])"
   ],
   "metadata": {
    "collapsed": false,
    "pycharm": {
     "name": "#%%\n",
     "is_executing": false
    }
   }
  },
  {
   "cell_type": "markdown",
   "source": [
    "#### 17. Подберите параметр регуляризации. Как меняются изображения на скрытом слое в зависимости от данного параметра?"
   ],
   "metadata": {
    "collapsed": false,
    "pycharm": {
     "name": "#%% md\n"
    }
   }
  },
  {
   "cell_type": "markdown",
   "source": [
    "При увеличении значения регуляризации изображения на скрытом слое становятся более размытыми.\n",
    "\n",
    "Оптимальное значение регуляризации = 1-2, процент правильных классификаций в таком случае держится в районе 96%, \n",
    "далее начинает уменьшаться.\n"
   ],
   "metadata": {
    "collapsed": false,
    "pycharm": {
     "name": "#%% md\n"
    }
   }
  }
 ],
 "metadata": {
  "kernelspec": {
   "name": "python3",
   "language": "python",
   "display_name": "Python 3"
  },
  "language_info": {
   "codemirror_mode": {
    "name": "ipython",
    "version": 2
   },
   "file_extension": ".py",
   "mimetype": "text/x-python",
   "name": "python",
   "nbconvert_exporter": "python",
   "pygments_lexer": "ipython2",
   "version": "2.7.6"
  },
  "pycharm": {
   "stem_cell": {
    "cell_type": "raw",
    "source": [],
    "metadata": {
     "collapsed": false
    }
   }
  }
 },
 "nbformat": 4,
 "nbformat_minor": 0
}