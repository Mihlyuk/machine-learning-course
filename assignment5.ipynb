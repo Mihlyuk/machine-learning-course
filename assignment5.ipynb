{
 "cells": [
  {
   "cell_type": "code",
   "execution_count": 1,
   "metadata": {
    "collapsed": true,
    "pycharm": {
     "is_executing": false,
     "name": "#%%\n"
    }
   },
   "outputs": [],
   "source": [
    "import os\n",
    "import scipy.io as scio\n",
    "import numpy as np\n",
    "import matplotlib.pyplot as plt\n",
    "from sklearn import svm\n",
    "import re\n",
    "import nltk\n",
    "import nltk.stem.porter\n",
    "import email.message\n",
    "import operator"
   ]
  },
  {
   "cell_type": "markdown",
   "source": [
    "#### 1. Загрузите данные ex5data1.mat из файла."
   ],
   "metadata": {
    "collapsed": false,
    "pycharm": {
     "name": "#%% md\n"
    }
   }
  },
  {
   "cell_type": "code",
   "execution_count": 2,
   "outputs": [],
   "source": [
    "def plotData(X, y):\n",
    "    pos = np.where(y == 1)\n",
    "    neg = np.where(y == 0)\n",
    "\n",
    "    plt.plot(X[pos, 0], X[pos, 1], 'k+', LineWidth=1, MarkerSize=7)\n",
    "    plt.plot(X[neg, 0], X[neg, 1], 'ko', MarkerFaceColor='y', MarkerSize=7)"
   ],
   "metadata": {
    "collapsed": false,
    "pycharm": {
     "name": "#%%\n",
     "is_executing": false
    }
   }
  },
  {
   "cell_type": "code",
   "execution_count": 3,
   "outputs": [],
   "source": [
    "data1 = scio.loadmat('data/Lab 5/ex5data1.mat')\n",
    "X, y = data1['X'], data1['y'][:, 0]"
   ],
   "metadata": {
    "collapsed": false,
    "pycharm": {
     "name": "#%%\n",
     "is_executing": false
    }
   }
  },
  {
   "cell_type": "markdown",
   "source": [
    "#### 2. Постройте график для загруженного набора данных: по осям - переменные X1, X2, а точки, принадлежащие различным классам должны быть обозначены различными маркерами."
   ],
   "metadata": {
    "collapsed": false,
    "pycharm": {
     "name": "#%% md\n"
    }
   }
  },
  {
   "cell_type": "code",
   "execution_count": 4,
   "outputs": [
    {
     "data": {
      "text/plain": "<Figure size 432x288 with 1 Axes>",
      "image/png": "[encoded data removed]"
     },
     "metadata": {
      "needs_background": "light"
     },
     "output_type": "display_data"
    }
   ],
   "source": [
    "plotData(X, y)\n",
    "plt.show()"
   ],
   "metadata": {
    "collapsed": false,
    "pycharm": {
     "name": "#%%\n",
     "is_executing": false
    }
   }
  },
  {
   "cell_type": "markdown",
   "source": [
    "#### 3. Обучите классификатор с помощью библиотечной реализации SVM с линейным ядром на данном наборе."
   ],
   "metadata": {
    "collapsed": false,
    "pycharm": {
     "name": "#%% md\n"
    }
   }
  },
  {
   "cell_type": "code",
   "execution_count": 5,
   "outputs": [],
   "source": [
    "def visualBoundaryLinear(X, y, theta, b):\n",
    "    xb = np.linspace(np.min(X[:, 0]), np.max(X[:, 1]), 100)\n",
    "    yb = -(theta[0] * xb + b) / theta[1]\n",
    "    plotData(X, y)\n",
    "    plt.plot(xb, yb, '-b')"
   ],
   "metadata": {
    "collapsed": false,
    "pycharm": {
     "name": "#%%\n",
     "is_executing": false
    }
   }
  },
  {
   "cell_type": "code",
   "execution_count": 6,
   "outputs": [],
   "source": [
    "model_c1 = svm.SVC(C=1, kernel='linear')\n",
    "model_c1.fit(X, y)\n",
    "theta_c1 = model_c1.coef_.flatten()\n",
    "b_c1 = model_c1.intercept_\n",
    "\n",
    "model_c100 = svm.SVC(C=100, kernel='linear')\n",
    "model_c100.fit(X, y)\n",
    "theta_c100 = model_c100.coef_.flatten()\n",
    "b_c100 = model_c100.intercept_"
   ],
   "metadata": {
    "collapsed": false,
    "pycharm": {
     "name": "#%%\n",
     "is_executing": false
    }
   }
  },
  {
   "cell_type": "markdown",
   "source": [
    "#### 4. Постройте разделяющую прямую для классификаторов с различными параметрами C = 1, C = 100 (совместно с графиком из пункта 2). Объясните различия в полученных прямых?"
   ],
   "metadata": {
    "collapsed": false,
    "pycharm": {
     "name": "#%% md\n"
    }
   }
  },
  {
   "cell_type": "code",
   "execution_count": 7,
   "outputs": [
    {
     "data": {
      "text/plain": "<Figure size 432x288 with 1 Axes>",
      "image/png": "[encoded data removed]"
     },
     "metadata": {
      "needs_background": "light"
     },
     "output_type": "display_data"
    },
    {
     "data": {
      "text/plain": "<Figure size 432x288 with 1 Axes>",
      "image/png": "[encoded data removed]"
     },
     "metadata": {
      "needs_background": "light"
     },
     "output_type": "display_data"
    }
   ],
   "source": [
    "visualBoundaryLinear(X, y, theta_c1, b_c1)\n",
    "plt.show()\n",
    "\n",
    "visualBoundaryLinear(X, y, theta_c100, b_c100)\n",
    "plt.show()"
   ],
   "metadata": {
    "collapsed": false,
    "pycharm": {
     "name": "#%%\n",
     "is_executing": false
    }
   }
  },
  {
   "cell_type": "markdown",
   "source": [
    "Ответ следует из упрощенной функции потерь, которую необходимо минимизировать:\n",
    "\n",
    "C ( sum\\[ cost(p * | theta |) \\] ) + 1/2(sum\\[theta ^ 2\\]), где:\n",
    "- p - длины проекций x-ов на theta. Где theta это вектор нормали к разделяющей прямой.\n",
    "- | theta | - вектор нормали к разделяющей прямой.\n",
    "\n",
    "Получается, для того чтобы минимизировать эту функцию, нам нужно максимизировать параметр p, или минимизировать параметр theta.\n",
    "Если мы увеличим параметр C, то, для того, чтобы минимизировать функцию нужны будут большие значение theta, или меньшие значения p.\n",
    "Вот и получается, что при С=100, расстоние между разделяющей прямой и опорными точками такое маленькое."
   ],
   "metadata": {
    "collapsed": false,
    "pycharm": {
     "name": "#%% md\n"
    }
   }
  },
  {
   "cell_type": "markdown",
   "source": [
    "#### 5. Реализуйте функцию вычисления Гауссового ядра для алгоритма SVM."
   ],
   "metadata": {
    "collapsed": false,
    "pycharm": {
     "name": "#%% md\n"
    }
   }
  },
  {
   "cell_type": "code",
   "execution_count": 8,
   "outputs": [],
   "source": [
    "def gaussianKernel(x1, x2, sigma):\n",
    "    sim = np.exp(-(x1 - x2) @ (x1 - x2) / (2 * sigma ** 2))\n",
    "    return sim"
   ],
   "metadata": {
    "collapsed": false,
    "pycharm": {
     "name": "#%%\n",
     "is_executing": false
    }
   }
  },
  {
   "cell_type": "code",
   "execution_count": 9,
   "outputs": [
    {
     "name": "stdout",
     "text": [
      "Gaussian Kernel:  0.32465246735834974\n"
     ],
     "output_type": "stream"
    }
   ],
   "source": [
    "x1 = np.array([1, 2, 1])\n",
    "x2 = np.array([0, 4, -1])\n",
    "sigma = 2\n",
    "sim = gaussianKernel(x1, x2, sigma)\n",
    "print('Gaussian Kernel: ', sim)"
   ],
   "metadata": {
    "collapsed": false,
    "pycharm": {
     "name": "#%%\n",
     "is_executing": false
    }
   }
  },
  {
   "cell_type": "markdown",
   "source": [
    "#### 6. Загрузите данные ex5data2.mat из файла."
   ],
   "metadata": {
    "collapsed": false,
    "pycharm": {
     "name": "#%% md\n",
     "is_executing": false
    }
   }
  },
  {
   "cell_type": "code",
   "execution_count": 10,
   "outputs": [
    {
     "data": {
      "text/plain": "<Figure size 432x288 with 1 Axes>",
      "image/png": "[encoded data removed]"
     },
     "metadata": {
      "needs_background": "light"
     },
     "output_type": "display_data"
    }
   ],
   "source": [
    "data2 = scio.loadmat('data/Lab 5/ex5data2.mat')\n",
    "X, y = data2['X'], data2['y'][:, 0]\n",
    "plotData(X, y)\n",
    "plt.show()"
   ],
   "metadata": {
    "collapsed": false,
    "pycharm": {
     "name": "#%%\n",
     "is_executing": false
    }
   }
  },
  {
   "cell_type": "markdown",
   "source": [
    "#### 7. Обработайте данные с помощью функции Гауссового ядра.\n",
    "#### 8. Обучите классификатор SVM."
   ],
   "metadata": {
    "collapsed": false,
    "pycharm": {
     "name": "#%% md\n"
    }
   }
  },
  {
   "cell_type": "code",
   "execution_count": 11,
   "outputs": [
    {
     "data": {
      "text/plain": "SVC(C=1, cache_size=200, class_weight=None, coef0=0.0,\n    decision_function_shape='ovr', degree=3, gamma=49.99999999999999,\n    kernel='rbf', max_iter=-1, probability=False, random_state=None,\n    shrinking=True, tol=0.001, verbose=False)"
     },
     "metadata": {},
     "output_type": "execute_result",
     "execution_count": 11
    }
   ],
   "source": [
    "sigma = 0.1\n",
    "model = svm.SVC(C=1, kernel='rbf', gamma=1 / (2 * sigma**2))\n",
    "model.fit(X, y)"
   ],
   "metadata": {
    "collapsed": false,
    "pycharm": {
     "name": "#%%\n",
     "is_executing": false
    }
   }
  },
  {
   "cell_type": "markdown",
   "source": [
    "#### 9. Визуализируйте данные вместе с разделяющей кривой (аналогично пункту 4)."
   ],
   "metadata": {
    "collapsed": false,
    "pycharm": {
     "name": "#%% md\n"
    }
   }
  },
  {
   "cell_type": "code",
   "execution_count": 12,
   "outputs": [],
   "source": [
    "def visualBoundary(X, y, model):\n",
    "    x1plot = np.linspace(np.min(X[:, 0]), np.max(X[:, 0]), 100)\n",
    "    x2plot = np.linspace(np.min(X[:, 1]), np.max(X[:, 1]), 100)\n",
    "    X1, X2 = np.meshgrid(x1plot, x2plot)\n",
    "    vals = np.zeros(np.shape(X1), dtype=float)\n",
    "    plotData(X, y)\n",
    "    for i in range(np.size(X1, 1)):\n",
    "        this_X = np.vstack((X1[:, i], X2[:, i])).T\n",
    "        vals[:, i] = model.predict(this_X)\n",
    "    plt.contour(X1, X2, vals, colors='b')"
   ],
   "metadata": {
    "collapsed": false,
    "pycharm": {
     "name": "#%%\n",
     "is_executing": false
    }
   }
  },
  {
   "cell_type": "code",
   "execution_count": 13,
   "outputs": [
    {
     "data": {
      "text/plain": "<Figure size 432x288 with 1 Axes>",
      "image/png": "[encoded data removed]"
     },
     "metadata": {
      "needs_background": "light"
     },
     "output_type": "display_data"
    }
   ],
   "source": [
    "visualBoundary(X, y, model)\n",
    "plt.show()"
   ],
   "metadata": {
    "collapsed": false,
    "pycharm": {
     "name": "#%%\n",
     "is_executing": false
    }
   }
  },
  {
   "cell_type": "markdown",
   "source": [
    "#### 10. Загрузите данные ex5data3.mat из файла."
   ],
   "metadata": {
    "collapsed": false,
    "pycharm": {
     "name": "#%% md\n"
    }
   }
  },
  {
   "cell_type": "code",
   "execution_count": 14,
   "outputs": [
    {
     "data": {
      "text/plain": "<Figure size 432x288 with 1 Axes>",
      "image/png": "[encoded data removed]"
     },
     "metadata": {
      "needs_background": "light"
     },
     "output_type": "display_data"
    }
   ],
   "source": [
    "data3 = scio.loadmat('data/Lab 5/ex5data3.mat')\n",
    "X, y = data3['X'], data3['y'][:, 0]\n",
    "Xval, yval = data3['Xval'], data3['yval'][:, 0]\n",
    "plotData(X, y)\n",
    "plt.show()"
   ],
   "metadata": {
    "collapsed": false,
    "pycharm": {
     "name": "#%%\n",
     "is_executing": false
    }
   }
  },
  {
   "cell_type": "markdown",
   "source": [
    "#### 11. Вычислите параметры классификатора SVM на обучающей выборке, а также подберите параметры C и σ2 на валидационной выборке."
   ],
   "metadata": {
    "collapsed": false,
    "pycharm": {
     "name": "#%% md\n"
    }
   }
  },
  {
   "cell_type": "code",
   "execution_count": 15,
   "outputs": [],
   "source": [
    "def dataset3Params(X, y, Xval, yval):\n",
    "    c = sigma = 0\n",
    "    lambda_all = np.array([0.01, 0.03, 0.1, 0.3, 1, 3, 10, 30]).T\n",
    "    len_all = np.size(lambda_all, 0)\n",
    "    errorVal = 999999999\n",
    "\n",
    "    for i in range(len_all):\n",
    "        now_c = lambda_all[i]\n",
    "        for j in range(len_all):\n",
    "            now_sigma = lambda_all[j]\n",
    "            model = svm.SVC(C=now_c, kernel='rbf',\n",
    "                            gamma=1 / (2 * now_sigma**2))\n",
    "            model.fit(X, y)\n",
    "            pred = model.predict(Xval)\n",
    "            error = np.mean(pred != yval)\n",
    "            if error < errorVal:\n",
    "                errorVal = error\n",
    "                c = now_c\n",
    "                sigma = now_sigma\n",
    "    return c, sigma"
   ],
   "metadata": {
    "collapsed": false,
    "pycharm": {
     "name": "#%%\n",
     "is_executing": false
    }
   }
  },
  {
   "cell_type": "code",
   "execution_count": 16,
   "outputs": [
    {
     "name": "stdout",
     "text": [
      "C =  1.0 , sigma =  0.1\n"
     ],
     "output_type": "stream"
    },
    {
     "data": {
      "text/plain": "SVC(C=1.0, cache_size=200, class_weight=None, coef0=0.0,\n    decision_function_shape='ovr', degree=3, gamma=49.99999999999999,\n    kernel='rbf', max_iter=-1, probability=False, random_state=None,\n    shrinking=True, tol=0.001, verbose=False)"
     },
     "metadata": {},
     "output_type": "execute_result",
     "execution_count": 16
    }
   ],
   "source": [
    "c, sigma = dataset3Params(X, y, Xval, yval)\n",
    "print('C = ', c, ', sigma = ', sigma)\n",
    "model = svm.SVC(C=c, kernel='rbf', gamma=1 / (2 * sigma**2))\n",
    "model.fit(X, y)"
   ],
   "metadata": {
    "collapsed": false,
    "pycharm": {
     "name": "#%%\n",
     "is_executing": false
    }
   }
  },
  {
   "cell_type": "markdown",
   "source": [
    "#### 12. Визуализируйте данные вместе с разделяющей кривой (аналогично пункту 4)."
   ],
   "metadata": {
    "collapsed": false,
    "pycharm": {
     "name": "#%% md\n"
    }
   }
  },
  {
   "cell_type": "code",
   "execution_count": 17,
   "outputs": [
    {
     "data": {
      "text/plain": "<Figure size 432x288 with 1 Axes>",
      "image/png": "[encoded data removed]"
     },
     "metadata": {
      "needs_background": "light"
     },
     "output_type": "display_data"
    }
   ],
   "source": [
    "visualBoundary(X, y, model)\n",
    "plt.show()"
   ],
   "metadata": {
    "collapsed": false,
    "pycharm": {
     "name": "#%%\n",
     "is_executing": false
    }
   }
  },
  {
   "cell_type": "markdown",
   "source": [
    "#### 13. Загрузите данные spamTrain.mat из файла."
   ],
   "metadata": {
    "collapsed": false,
    "pycharm": {
     "name": "#%% md\n"
    }
   }
  },
  {
   "cell_type": "code",
   "execution_count": 18,
   "outputs": [],
   "source": [
    "spam_train = scio.loadmat('data/Lab 5/spamTrain.mat')\n",
    "X, y = spam_train['X'], spam_train['y'][:, 0]"
   ],
   "metadata": {
    "collapsed": false,
    "pycharm": {
     "name": "#%%\n",
     "is_executing": false
    }
   }
  },
  {
   "cell_type": "markdown",
   "source": [
    "#### 14. Обучите классификатор SVM."
   ],
   "metadata": {
    "collapsed": false,
    "pycharm": {
     "name": "#%% md\n"
    }
   }
  },
  {
   "cell_type": "code",
   "execution_count": 19,
   "outputs": [
    {
     "name": "stdout",
     "text": [
      "Training Accuracy:  99.825\n"
     ],
     "output_type": "stream"
    }
   ],
   "source": [
    "model = svm.SVC(C=0.1, kernel='linear')\n",
    "model.fit(X, y)\n",
    "p = model.predict(X)\n",
    "print('Training Accuracy: ', np.mean(p == y) * 100)"
   ],
   "metadata": {
    "collapsed": false,
    "pycharm": {
     "name": "#%%\n",
     "is_executing": false
    }
   }
  },
  {
   "cell_type": "markdown",
   "source": [
    "#### 15. Загрузите данные spamTest.mat из файла."
   ],
   "metadata": {
    "collapsed": false,
    "pycharm": {
     "name": "#%% md\n"
    }
   }
  },
  {
   "cell_type": "code",
   "execution_count": 20,
   "outputs": [],
   "source": [
    "spam_test = scio.loadmat('data/Lab 5/spamTest.mat')\n",
    "Xtest, ytest = spam_test['Xtest'], spam_test['ytest'][:, 0]"
   ],
   "metadata": {
    "collapsed": false,
    "pycharm": {
     "name": "#%%\n",
     "is_executing": false
    }
   }
  },
  {
   "cell_type": "markdown",
   "source": [
    "#### 16. Подберите параметры C и σ2."
   ],
   "metadata": {
    "collapsed": false,
    "pycharm": {
     "name": "#%% md\n"
    }
   }
  },
  {
   "cell_type": "code",
   "execution_count": 21,
   "outputs": [
    {
     "name": "stdout",
     "text": [
      "C =  10.0 , sigma =  10.0\n",
      "Test Accuracy:  98.9\n"
     ],
     "output_type": "stream"
    }
   ],
   "source": [
    "c, sigma = dataset3Params(X[:500, :], y[:500], Xtest, ytest)\n",
    "print('C = ', c, ', sigma = ', sigma)\n",
    "p = model.predict(Xtest)\n",
    "print('Test Accuracy: ', np.mean(p == ytest) * 100)"
   ],
   "metadata": {
    "collapsed": false,
    "pycharm": {
     "name": "#%%\n",
     "is_executing": false
    }
   }
  },
  {
   "cell_type": "markdown",
   "source": [
    "#### 17. Реализуйте функцию предобработки текста письма, включающую в себя: ...\n",
    "#### 18. Загрузите коды слов из словаря vocab.txt.\n",
    "#### 19. Реализуйте функцию замены слов в тексте письма после предобработки на их соответствующие коды."
   ],
   "metadata": {
    "collapsed": false,
    "pycharm": {
     "name": "#%% md\n"
    }
   }
  },
  {
   "cell_type": "code",
   "execution_count": 22,
   "outputs": [],
   "source": [
    "def getVocabList(file='vocab.txt'):\n",
    "    vocab = {}\n",
    "    for line in open(f'data/Lab 5/{file}', 'r'):\n",
    "        (val, key, *others) = line.split()\n",
    "        vocab[key] = int(val)\n",
    "    return vocab"
   ],
   "metadata": {
    "collapsed": false,
    "pycharm": {
     "name": "#%%\n",
     "is_executing": false
    }
   }
  },
  {
   "cell_type": "code",
   "execution_count": 23,
   "outputs": [],
   "source": [
    "def processEmail(email_contents, vocab_file='vocab.txt'):\n",
    "    vocab = getVocabList(vocab_file)\n",
    "    word_indices = []\n",
    "    email_contents = email_contents.lower()\n",
    "    email_contents = re.sub('<[^<>]+>', ' ', email_contents)\n",
    "    email_contents = re.sub('[0-9]+', 'number', email_contents)\n",
    "    email_contents = re.sub('(http|https)://[^\\s]*', 'httpaddr', email_contents)\n",
    "    email_contents = re.sub('[^\\s]+@[^\\s]+', 'emailaddr', email_contents)\n",
    "    email_contents = re.sub('[$]+', 'dollar', email_contents)\n",
    "    email_contents = re.sub('\\s+', ' ', email_contents)\n",
    "    \n",
    "    # Tokenize Email\n",
    "    stemmer = nltk.stem.porter.PorterStemmer()\n",
    "    tokens = re.split('_|number|\\W', email_contents)\n",
    "    \n",
    "    for token in tokens:\n",
    "        token = re.sub('[^a-zA-Z0-9]', '', token)\n",
    "        token = stemmer.stem(token)\n",
    "        if len(token) < 1:\n",
    "            continue\n",
    "        if token in vocab:\n",
    "            word_indices.append(vocab[token])\n",
    "            \n",
    "    return word_indices"
   ],
   "metadata": {
    "collapsed": false,
    "pycharm": {
     "name": "#%%\n",
     "is_executing": false
    }
   }
  },
  {
   "cell_type": "code",
   "execution_count": 24,
   "outputs": [],
   "source": [
    "def readFile(filename):\n",
    "    file = open(filename, 'r')\n",
    "    content = file.read()\n",
    "    file.close()\n",
    "    return content"
   ],
   "metadata": {
    "collapsed": false,
    "pycharm": {
     "name": "#%%\n",
     "is_executing": false
    }
   }
  },
  {
   "cell_type": "code",
   "execution_count": 25,
   "outputs": [
    {
     "name": "stdout",
     "text": [
      "Word Indices: [86, 916, 794, 1077, 883, 370, 1699, 790, 1822, 1831, 883, 431, 1171, 794, 1002, 1893, 1364, 592, 1676, 238, 162, 89, 688, 945, 1663, 1062, 1699, 375, 1162, 477, 1893, 1510, 799, 1182, 1237, 512, 810, 1895, 1440, 1547, 181, 1699, 1758, 1896, 688, 1676, 992, 961, 1477, 71, 530, 1699, 531]\n"
     ],
     "output_type": "stream"
    }
   ],
   "source": [
    "file_contents = readFile('data/Lab 5/emailSample1.txt')\n",
    "word_indices = processEmail(file_contents)\n",
    "print('Word Indices:', word_indices)"
   ],
   "metadata": {
    "collapsed": false,
    "pycharm": {
     "name": "#%%\n",
     "is_executing": false
    }
   }
  },
  {
   "cell_type": "markdown",
   "source": [
    "#### 20. Реализуйте функцию преобразования текста письма в вектор признаков (в таком же формате как в файлах spamTrain.mat и spamTest.mat)."
   ],
   "metadata": {
    "collapsed": false,
    "pycharm": {
     "name": "#%% md\n"
    }
   }
  },
  {
   "cell_type": "code",
   "execution_count": 26,
   "outputs": [],
   "source": [
    "def emailFeatures(word_indices):\n",
    "    n = 1898\n",
    "    features = np.zeros((n + 1,), dtype=int)\n",
    "    for w in word_indices:\n",
    "        features[w] = 1\n",
    "    return features"
   ],
   "metadata": {
    "collapsed": false,
    "pycharm": {
     "name": "#%%\n",
     "is_executing": false
    }
   }
  },
  {
   "cell_type": "code",
   "execution_count": 27,
   "outputs": [
    {
     "name": "stdout",
     "text": [
      "Length of feature vector:  1899\nNumber of non-zero entries:  45\n"
     ],
     "output_type": "stream"
    }
   ],
   "source": [
    "features = emailFeatures(word_indices)\n",
    "print('Length of feature vector: ', features.size)\n",
    "print('Number of non-zero entries: ', np.flatnonzero(features).size)"
   ],
   "metadata": {
    "collapsed": false,
    "pycharm": {
     "name": "#%%\n",
     "is_executing": false
    }
   }
  },
  {
   "cell_type": "markdown",
   "source": [
    "#### 21. Проверьте работу классификатора на письмах из файлов emailSample1.txt, emailSample2.txt, spamSample1.txt и spamSample2.txt."
   ],
   "metadata": {
    "collapsed": false,
    "pycharm": {
     "name": "#%% md\n"
    }
   }
  },
  {
   "cell_type": "code",
   "execution_count": 28,
   "outputs": [],
   "source": [
    "def getEmail(path_to_file):\n",
    "    file_contents = readFile(path_to_file)\n",
    "    word_indices = processEmail(file_contents)\n",
    "    return emailFeatures(word_indices)"
   ],
   "metadata": {
    "collapsed": false,
    "pycharm": {
     "name": "#%%\n",
     "is_executing": false
    }
   }
  },
  {
   "cell_type": "code",
   "execution_count": 32,
   "outputs": [
    {
     "name": "stdout",
     "text": [
      "emailSample1 predict:  [0]\nemailSample2 predict:  [0]\nspamSample1 predict:  [1]\nspamSample2 predict:  [1]\n"
     ],
     "output_type": "stream"
    }
   ],
   "source": [
    "emailSample1 = getEmail('data/Lab 5/emailSample1.txt')\n",
    "emailSample2 = getEmail('data/Lab 5/emailSample2.txt')\n",
    "spamSample1 = getEmail('data/Lab 5/spamSample1.txt')\n",
    "spamSample2 = getEmail('data/Lab 5/spamSample2.txt')\n",
    "\n",
    "\n",
    "print('emailSample1 predict: ', model.predict([emailSample1]))\n",
    "print('emailSample2 predict: ', model.predict([emailSample2]))\n",
    "print('spamSample1 predict: ', model.predict([spamSample1]))\n",
    "print('spamSample2 predict: ', model.predict([spamSample2]))"
   ],
   "metadata": {
    "collapsed": false,
    "pycharm": {
     "name": "#%%\n",
     "is_executing": false
    }
   }
  },
  {
   "cell_type": "markdown",
   "source": [
    "#### 22. Также можете проверить его работу на собственных примерах."
   ],
   "metadata": {
    "collapsed": false,
    "pycharm": {
     "name": "#%% md\n"
    }
   }
  },
  {
   "cell_type": "code",
   "execution_count": 30,
   "outputs": [
    {
     "name": "stdout",
     "text": [
      "emailSample1 predict:  [0]\nemailSample2 predict:  [0]\n"
     ],
     "output_type": "stream"
    }
   ],
   "source": [
    "grammarlySpamSample = getEmail('data/Lab 5/grammarlySpamSample.txt')\n",
    "slackShareSpamSample = getEmail('data/Lab 5/slackShareSpamSample.txt')\n",
    "print('emailSample1 predict: ', model.predict([grammarlySpamSample]))\n",
    "print('emailSample2 predict: ', model.predict([slackShareSpamSample]))"
   ],
   "metadata": {
    "collapsed": false,
    "pycharm": {
     "name": "#%%\n",
     "is_executing": false
    }
   }
  },
  {
   "cell_type": "markdown",
   "source": [
    "К сожалению, мои спам письма модель определила не как спам.\n"
   ],
   "metadata": {
    "collapsed": false,
    "pycharm": {
     "name": "#%% md\n"
    }
   }
  }
 ],
 "metadata": {
  "kernelspec": {
   "name": "python3",
   "language": "python",
   "display_name": "Python 3"
  },
  "language_info": {
   "codemirror_mode": {
    "name": "ipython",
    "version": 2
   },
   "file_extension": ".py",
   "mimetype": "text/x-python",
   "name": "python",
   "nbconvert_exporter": "python",
   "pygments_lexer": "ipython2",
   "version": "2.7.6"
  },
  "pycharm": {
   "stem_cell": {
    "cell_type": "raw",
    "source": [],
    "metadata": {
     "collapsed": false
    }
   }
  }
 },
 "nbformat": 4,
 "nbformat_minor": 0
}