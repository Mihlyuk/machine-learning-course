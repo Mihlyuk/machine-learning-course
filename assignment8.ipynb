{
 "cells": [
  {
   "cell_type": "code",
   "execution_count": 28,
   "outputs": [],
   "source": [
    "import scipy.io as scio\n",
    "import numpy as np\n",
    "import matplotlib.pyplot as plt"
   ],
   "metadata": {
    "collapsed": false,
    "pycharm": {
     "name": "#%%\n",
     "is_executing": false
    }
   }
  },
  {
   "cell_type": "markdown",
   "metadata": {
    "collapsed": true,
    "pycharm": {
     "name": "#%% md\n"
    }
   },
   "source": [
    "#### 1. Загрузите данные ex8data1.mat из файла."
   ]
  },
  {
   "cell_type": "code",
   "execution_count": 29,
   "outputs": [],
   "source": [
    "data1 = scio.loadmat('data/Lab 8/ex8data1.mat')\n",
    "X, Xval, yval = data1['X'], data1['Xval'], data1['yval'][:, 0]"
   ],
   "metadata": {
    "collapsed": false,
    "pycharm": {
     "name": "#%%\n",
     "is_executing": false
    }
   }
  },
  {
   "cell_type": "markdown",
   "source": [
    "#### 2. Постройте график загруженных данных в виде диаграммы рассеяния."
   ],
   "metadata": {
    "collapsed": false,
    "pycharm": {
     "name": "#%% md\n"
    }
   }
  },
  {
   "cell_type": "code",
   "execution_count": 30,
   "outputs": [
    {
     "data": {
      "text/plain": "<Figure size 432x288 with 1 Axes>",
      "image/png": "[encoded data removed]"
     },
     "metadata": {
      "needs_background": "light"
     },
     "output_type": "display_data"
    }
   ],
   "source": [
    "plt.plot(X[:, 0], X[:, 1], 'bx')\n",
    "plt.axis([0, 30, 0, 30])\n",
    "plt.xlabel('Latency (ms)')\n",
    "plt.ylabel('Throughput (mb/s)')\n",
    "plt.show()"
   ],
   "metadata": {
    "collapsed": false,
    "pycharm": {
     "name": "#%%\n",
     "is_executing": false
    }
   }
  },
  {
   "cell_type": "markdown",
   "source": [
    "#### 3. Представьте данные в виде двух независимых нормально распределенных случайных величин."
   ],
   "metadata": {
    "collapsed": false,
    "pycharm": {
     "name": "#%% md\n"
    }
   }
  },
  {
   "cell_type": "code",
   "execution_count": 31,
   "outputs": [
    {
     "data": {
      "text/plain": "<Figure size 432x288 with 1 Axes>",
      "image/png": "[encoded data removed]"
     },
     "metadata": {
      "needs_background": "light"
     },
     "output_type": "display_data"
    },
    {
     "data": {
      "text/plain": "<Figure size 432x288 with 1 Axes>",
      "image/png": "[encoded data removed]"
     },
     "metadata": {
      "needs_background": "light"
     },
     "output_type": "display_data"
    }
   ],
   "source": [
    "plt.hist(X[:, 0], 100, facecolor='blue', alpha=0.5)\n",
    "plt.show()\n",
    "\n",
    "plt.hist(X[:, 1], 100, facecolor='blue', alpha=0.5)\n",
    "plt.show()"
   ],
   "metadata": {
    "collapsed": false,
    "pycharm": {
     "name": "#%%\n",
     "is_executing": false
    }
   }
  },
  {
   "cell_type": "markdown",
   "source": [
    "#### 4. Оцените параметры распределений случайных величин."
   ],
   "metadata": {
    "collapsed": false,
    "pycharm": {
     "name": "#%% md\n"
    }
   }
  },
  {
   "cell_type": "code",
   "execution_count": 32,
   "outputs": [],
   "source": [
    "def estimateGaussian(X):\n",
    "    mu = np.mean(X, axis=0)\n",
    "    sigma2 = np.mean(np.square(X - mu), axis=0)\n",
    "    return mu, sigma2"
   ],
   "metadata": {
    "collapsed": false,
    "pycharm": {
     "name": "#%%\n",
     "is_executing": false
    }
   }
  },
  {
   "cell_type": "code",
   "execution_count": 33,
   "outputs": [
    {
     "name": "stdout",
     "text": [
      "mu = [14.11222578 14.99771051], sigma = [1.83263141 1.70974533]\n"
     ],
     "output_type": "stream"
    }
   ],
   "source": [
    "mu, sigma2 = estimateGaussian(X)\n",
    "print(f'mu = {mu}, sigma = {sigma2}')"
   ],
   "metadata": {
    "collapsed": false,
    "pycharm": {
     "name": "#%%\n",
     "is_executing": false
    }
   }
  },
  {
   "cell_type": "markdown",
   "source": [
    "#### 5. Постройте график плотности распределения получившейся случайной величины в виде изолиний, совместив его с графиком из пункта 2."
   ],
   "metadata": {
    "collapsed": false,
    "pycharm": {
     "name": "#%% md\n"
    }
   }
  },
  {
   "cell_type": "code",
   "execution_count": 34,
   "outputs": [],
   "source": [
    "def multivariateGaussian(X, mu, sigma2):\n",
    "    k = len(mu)\n",
    "    if sigma2.ndim == 1 or (sigma2.ndim == 2 and (sigma2.shape[1] == 1 or sigma2.shape[0] == 1)):\n",
    "        sigma2 = np.diag(sigma2)\n",
    "    X = X - mu\n",
    "    p = (2 * np.pi) ** (-k / 2) * np.linalg.det(sigma2) ** (-0.5) * \\\n",
    "        np.exp(-0.5 * np.sum(np.dot(X, np.linalg.pinv(sigma2)) * X, axis=1))\n",
    "    return p"
   ],
   "metadata": {
    "collapsed": false,
    "pycharm": {
     "name": "#%%\n",
     "is_executing": false
    }
   }
  },
  {
   "cell_type": "code",
   "execution_count": 35,
   "outputs": [],
   "source": [
    "def visualizeFit(X, mu, sigma2):\n",
    "    grid = np.arange(0, 35.5, 0.5)\n",
    "    x1, x2 = np.meshgrid(grid, grid)\n",
    "\n",
    "    Z = multivariateGaussian(\n",
    "        np.c_[x1.flatten('F'), x2.flatten('F')], mu, sigma2)\n",
    "    Z = Z.reshape(x1.shape, order='F')\n",
    "\n",
    "    plt.figure()\n",
    "    plt.scatter(X[:, 0], X[:, 1], marker='x', c='b', s=15, linewidth=1)\n",
    "\n",
    "    # Do not plot if there are infinities\n",
    "    if np.sum(np.isinf(X)) == 0:\n",
    "        lvls = 10 ** np.arange(-20, 0, 3).astype(np.float)\n",
    "    plt.contour(x1, x2, Z, levels=lvls, colors='r', linewidths=0.7)\n",
    "    "
   ],
   "metadata": {
    "collapsed": false,
    "pycharm": {
     "name": "#%%\n",
     "is_executing": false
    }
   }
  },
  {
   "cell_type": "code",
   "execution_count": 36,
   "outputs": [
    {
     "data": {
      "text/plain": "Text(0, 0.5, 'Throughput (mb/s)')"
     },
     "metadata": {},
     "output_type": "execute_result",
     "execution_count": 36
    },
    {
     "data": {
      "text/plain": "<Figure size 432x288 with 1 Axes>",
      "image/png": "[encoded data removed]"
     },
     "metadata": {
      "needs_background": "light"
     },
     "output_type": "display_data"
    }
   ],
   "source": [
    "p = multivariateGaussian(X, mu, sigma2)\n",
    "visualizeFit(X, mu, sigma2)\n",
    "plt.xlabel('Latency (ms)')\n",
    "plt.ylabel('Throughput (mb/s)')"
   ],
   "metadata": {
    "collapsed": false,
    "pycharm": {
     "name": "#%%\n",
     "is_executing": false
    }
   }
  },
  {
   "cell_type": "markdown",
   "source": [
    "#### 6. Подберите значение порога для обнаружения аномалий на основе валидационной выборки. В качестве метрики используйте F1-меру."
   ],
   "metadata": {
    "collapsed": false,
    "pycharm": {
     "name": "#%% md\n"
    }
   }
  },
  {
   "cell_type": "code",
   "execution_count": 37,
   "outputs": [],
   "source": [
    "def selectThreshold(yval, pval):\n",
    "    bestEpsilon = 0\n",
    "    bestF1 = 0\n",
    "    F1 = 0\n",
    "\n",
    "    stepsize = (max(pval) - min(pval)) / 1000\n",
    "    for epsilon in np.arange(min(pval), max(pval), stepsize):\n",
    "        tp = sum((yval == 1) & (pval < epsilon))\n",
    "        fp = sum((yval == 1) & (pval >= epsilon))\n",
    "        fn = sum((yval == 0) & (pval < epsilon))\n",
    "        \n",
    "        if tp + fp == 0 or tp + fn == 0:\n",
    "            F1 = -1\n",
    "        else:\n",
    "            prec = tp / (tp + fp)\n",
    "            rec = tp / (tp + fn)\n",
    "            F1 = 2 * prec * rec / (prec + rec)\n",
    "\n",
    "        if F1 > bestF1:\n",
    "            bestEpsilon = epsilon\n",
    "            bestF1 = F1\n",
    "            \n",
    "    return bestEpsilon, bestF1"
   ],
   "metadata": {
    "collapsed": false,
    "pycharm": {
     "name": "#%%\n",
     "is_executing": false
    }
   }
  },
  {
   "cell_type": "code",
   "execution_count": 38,
   "outputs": [
    {
     "name": "stdout",
     "text": [
      "Best epsilon found using cross-validation:  8.990852779269495e-05\nBest F1 on Cross Validation Set:  0.8750000000000001\n"
     ],
     "output_type": "stream"
    }
   ],
   "source": [
    "pval = multivariateGaussian(Xval, mu, sigma2)\n",
    "epsilon, F1 = selectThreshold(yval, pval)\n",
    "print('Best epsilon found using cross-validation: ', epsilon)\n",
    "print('Best F1 on Cross Validation Set: ', F1)"
   ],
   "metadata": {
    "collapsed": false,
    "pycharm": {
     "name": "#%%\n",
     "is_executing": false
    }
   }
  },
  {
   "cell_type": "markdown",
   "source": [
    "#### 7. Выделите аномальные наблюдения на графике из пункта 5 с учетом выбранного порогового значения."
   ],
   "metadata": {
    "collapsed": false,
    "pycharm": {
     "name": "#%% md\n"
    }
   }
  },
  {
   "cell_type": "code",
   "execution_count": 39,
   "outputs": [
    {
     "data": {
      "text/plain": "<Figure size 432x288 with 1 Axes>",
      "image/png": "[encoded data removed]"
     },
     "metadata": {
      "needs_background": "light"
     },
     "output_type": "display_data"
    }
   ],
   "source": [
    "outliers = np.where(p < epsilon)\n",
    "p = multivariateGaussian(X, mu, sigma2)\n",
    "visualizeFit(X, mu, sigma2)\n",
    "plt.xlabel('Latency (ms)')\n",
    "plt.ylabel('Throughput (mb/s)')\n",
    "plt.plot(X[outliers, 0], X[outliers, 1], 'ro', mfc='none', ms=8)\n",
    "plt.show()"
   ],
   "metadata": {
    "collapsed": false,
    "pycharm": {
     "name": "#%%\n",
     "is_executing": false
    }
   }
  },
  {
   "cell_type": "markdown",
   "source": [
    "#### 8. Загрузите данные ex8data2.mat из файла."
   ],
   "metadata": {
    "collapsed": false,
    "pycharm": {
     "name": "#%% md\n"
    }
   }
  },
  {
   "cell_type": "code",
   "execution_count": 40,
   "outputs": [],
   "source": [
    "data2 = scio.loadmat('data/Lab 8/ex8data2.mat')\n",
    "X, Xval, yval = data2['X'], data2['Xval'], data2['yval'][:, 0]"
   ],
   "metadata": {
    "collapsed": false,
    "pycharm": {
     "name": "#%% \n",
     "is_executing": false
    }
   }
  },
  {
   "cell_type": "markdown",
   "source": [
    "#### 9. Представьте данные в виде 11-мерной нормально распределенной случайной величины."
   ],
   "metadata": {
    "collapsed": false,
    "pycharm": {
     "name": "#%% md\n"
    }
   }
  },
  {
   "cell_type": "code",
   "execution_count": 41,
   "outputs": [],
   "source": [
    "def plot_distribution(ax, X):\n",
    "    ax.hist(X, 100, facecolor='blue', alpha=0.5)"
   ],
   "metadata": {
    "collapsed": false,
    "pycharm": {
     "name": "#%%\n",
     "is_executing": false
    }
   }
  },
  {
   "cell_type": "code",
   "execution_count": 42,
   "outputs": [
    {
     "data": {
      "text/plain": "<Figure size 432x288 with 12 Axes>",
      "image/png": "[encoded data removed]"
     },
     "metadata": {
      "needs_background": "light"
     },
     "output_type": "display_data"
    }
   ],
   "source": [
    "fig, axes = plt.subplots(3, 4)\n",
    "axes[0, 0].hist(X[:, 0], 100, facecolor='blue', alpha=0.5)\n",
    "axes[0, 1].hist(X[:, 1], 100, facecolor='blue', alpha=0.5)\n",
    "axes[0, 2].hist(X[:, 2], 100, facecolor='blue', alpha=0.5)\n",
    "axes[0, 3].hist(X[:, 3], 100, facecolor='blue', alpha=0.5)\n",
    "axes[1, 0].hist(X[:, 4], 100, facecolor='blue', alpha=0.5)\n",
    "axes[1, 1].hist(X[:, 5], 100, facecolor='blue', alpha=0.5)\n",
    "axes[1, 2].hist(X[:, 6], 100, facecolor='blue', alpha=0.5)\n",
    "axes[1, 3].hist(X[:, 7], 100, facecolor='blue', alpha=0.5)\n",
    "axes[2, 0].hist(X[:, 8], 100, facecolor='blue', alpha=0.5)\n",
    "axes[2, 1].hist(X[:, 9], 100, facecolor='blue', alpha=0.5)\n",
    "axes[2, 2].hist(X[:, 10], 100, facecolor='blue', alpha=0.5)\n",
    "plt.show()"
   ],
   "metadata": {
    "collapsed": false,
    "pycharm": {
     "name": "#%%\n",
     "is_executing": false
    }
   }
  },
  {
   "cell_type": "markdown",
   "source": [
    "#### 10. Оцените параметры распределения случайной величины."
   ],
   "metadata": {
    "collapsed": false,
    "pycharm": {
     "name": "#%% md\n",
     "is_executing": false
    }
   }
  },
  {
   "cell_type": "code",
   "execution_count": 43,
   "outputs": [
    {
     "name": "stdout",
     "text": [
      "mu = [  4.93940034  -9.63726819  13.81470749 -10.4644888   -7.95622922\n  10.19950372  -6.01940755   7.96982896  -6.2531819    2.32451289\n   8.47372252], sigma = [60.97489373 53.20572186 58.51546272 84.20403725 65.26859177 89.57487757\n 55.63349911 87.16233783 29.62926829 70.7852052  50.50356719]\n"
     ],
     "output_type": "stream"
    }
   ],
   "source": [
    "mu, sigma2 = estimateGaussian(X)\n",
    "print(f'mu = {mu}, sigma = {sigma2}')"
   ],
   "metadata": {
    "collapsed": false,
    "pycharm": {
     "name": "#%%\n",
     "is_executing": false
    }
   }
  },
  {
   "cell_type": "markdown",
   "source": [
    "#### 11. Подберите значение порога для обнаружения аномалий на основе валидационной выборки. В качестве метрики используйте F1-меру."
   ],
   "metadata": {
    "collapsed": false,
    "pycharm": {
     "name": "#%% md\n"
    }
   }
  },
  {
   "cell_type": "code",
   "execution_count": 44,
   "outputs": [
    {
     "name": "stdout",
     "text": [
      "Best epsilon found using cross-validation:  1.377228890761358e-18\nBest F1 on Cross Validation Set:  0.6153846153846154\n"
     ],
     "output_type": "stream"
    }
   ],
   "source": [
    "pval = multivariateGaussian(Xval, mu, sigma2)\n",
    "epsilon, F1 = selectThreshold(yval, pval)\n",
    "print('Best epsilon found using cross-validation: ', epsilon)\n",
    "print('Best F1 on Cross Validation Set: ', F1)"
   ],
   "metadata": {
    "collapsed": false,
    "pycharm": {
     "name": "#%%\n",
     "is_executing": false
    }
   }
  },
  {
   "cell_type": "markdown",
   "source": [
    "#### 12. Выделите аномальные наблюдения в обучающей выборке. Сколько их было обнаружено? Какой был подобран порог?"
   ],
   "metadata": {
    "collapsed": false,
    "pycharm": {
     "name": "#%% md\n"
    }
   }
  },
  {
   "cell_type": "code",
   "execution_count": 45,
   "outputs": [
    {
     "name": "stdout",
     "text": [
      "Outliers found:  117\n"
     ],
     "output_type": "stream"
    }
   ],
   "source": [
    "p = multivariateGaussian(X, mu, sigma2)\n",
    "print('Outliers found: ', np.sum(p < epsilon))"
   ],
   "metadata": {
    "collapsed": false,
    "pycharm": {
     "name": "#%%\n",
     "is_executing": false
    }
   }
  },
  {
   "cell_type": "markdown",
   "source": [
    "Было обнаружено 117 аномальных наблюдений.\n",
    "\n",
    "Был подобран парог e = 1.377 * 10 ^ (-18)"
   ],
   "metadata": {
    "collapsed": false,
    "pycharm": {
     "name": "#%% md\n"
    }
   }
  }
 ],
 "metadata": {
  "kernelspec": {
   "name": "python3",
   "language": "python",
   "display_name": "Python 3"
  },
  "language_info": {
   "codemirror_mode": {
    "name": "ipython",
    "version": 2
   },
   "file_extension": ".py",
   "mimetype": "text/x-python",
   "name": "python",
   "nbconvert_exporter": "python",
   "pygments_lexer": "ipython2",
   "version": "2.7.6"
  },
  "pycharm": {
   "stem_cell": {
    "cell_type": "raw",
    "source": [],
    "metadata": {
     "collapsed": false
    }
   }
  }
 },
 "nbformat": 4,
 "nbformat_minor": 0
}